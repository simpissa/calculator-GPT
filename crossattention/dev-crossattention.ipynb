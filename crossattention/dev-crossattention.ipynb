{
 "cells": [
  {
   "cell_type": "code",
   "execution_count": 1,
   "metadata": {},
   "outputs": [
    {
     "data": {
      "text/plain": [
       "<torch._C.Generator at 0x7f58ef95d4b0>"
      ]
     },
     "execution_count": 1,
     "metadata": {},
     "output_type": "execute_result"
    }
   ],
   "source": [
    "import torch\n",
    "import torch.nn as nn\n",
    "import math\n",
    "torch.manual_seed(69)"
   ]
  },
  {
   "cell_type": "code",
   "execution_count": 83,
   "metadata": {},
   "outputs": [],
   "source": [
    "vocab_size = 16\n",
    "chars = \"0123456789+_-=., \" # '_':subtract      '-':minus      '.':EOS      ',':start token      ' ':padding\n",
    "stoi = {c:i for i, c in enumerate(chars)}\n",
    "encode = lambda str: [stoi[c] for c in str]\n",
    "decode = lambda idxs: ''.join([chars[i] for i in idxs])"
   ]
  },
  {
   "cell_type": "code",
   "execution_count": 118,
   "metadata": {},
   "outputs": [],
   "source": [
    "batch_size = 8\n",
    "lhs_max = 999\n",
    "# -999+-999=|.1998-, worst case\n",
    "max_left = 10\n",
    "max_right = 7\n",
    "\n",
    "def get_batch():\n",
    "    batch = [] \n",
    "    qs = [] # questions for encoder\n",
    "    padding_mask_qs = []\n",
    "    padding_mask_batch = []\n",
    "    for _ in range(batch_size):\n",
    "        a = torch.randint(-lhs_max, lhs_max+1, (2,))\n",
    "        if torch.randint(0,2, (1,)).item():\n",
    "            op = \"_\"\n",
    "            result = (a[0]-a[1]).item()\n",
    "        else:\n",
    "            op = \"+\"\n",
    "            result = a.sum().item()\n",
    "        sign = \"-\" if result < 0 else \"\" # add negative sign to end   (SHOULD POSITIVE SIGN BE ADDED TOO?)\n",
    "\n",
    "        q = f\"{a[0]}{op}{a[1]}=\"\n",
    "        ans = f\".{abs(result)}{sign},\"\n",
    "\n",
    "        # padding\n",
    "        padding_mask_qs.append([1]*len(q) + [0]*(max_left-len(q)))\n",
    "        padding_mask_batch.append([1]*(len(ans)-1) + [0]*(max_right-len(ans)))\n",
    "        q += \" \" * (max_left-len(q))\n",
    "        ans = \" \" * (max_right-len(ans)) + ans\n",
    "        print(q)\n",
    "        print(ans)\n",
    "        qs.append(encode(q))\n",
    "        batch.append(ans)\n",
    "        \n",
    "    return torch.tensor(qs), get_examples(batch), torch.tensor(padding_mask_qs), torch.tensor(padding_mask_batch)\n",
    "\n",
    "def get_examples(batch):\n",
    "    Xb, Yb = [], []\n",
    "    for x in batch:\n",
    "        xb = x[:0:-1]\n",
    "        yb = x[len(x)-2::-1]\n",
    "        Xb.append(encode(xb))\n",
    "        Yb.append(encode(yb))\n",
    "    return torch.tensor(Xb), torch.tensor(Yb)\n"
   ]
  },
  {
   "cell_type": "code",
   "execution_count": 119,
   "metadata": {},
   "outputs": [
    {
     "name": "stdout",
     "output_type": "stream",
     "text": [
      "512+188=  \n",
      "  .700,\n",
      "686+408=  \n",
      " .1094,\n",
      "-898_804= \n",
      ".1702-,\n",
      "-500+766= \n",
      "  .266,\n",
      "-771+719= \n",
      "  .52-,\n",
      "31_-553=  \n",
      "  .584,\n",
      "744+157=  \n",
      "  .901,\n",
      "-902+52=  \n",
      " .850-,\n",
      "torch.Size([8, 10])\n",
      "torch.Size([8, 6])\n",
      "torch.Size([8, 6])\n",
      "tensor([[[1],\n",
      "         [1],\n",
      "         [1],\n",
      "         [1],\n",
      "         [1],\n",
      "         [1],\n",
      "         [1],\n",
      "         [1],\n",
      "         [0],\n",
      "         [0]],\n",
      "\n",
      "        [[1],\n",
      "         [1],\n",
      "         [1],\n",
      "         [1],\n",
      "         [1],\n",
      "         [1],\n",
      "         [1],\n",
      "         [1],\n",
      "         [0],\n",
      "         [0]],\n",
      "\n",
      "        [[1],\n",
      "         [1],\n",
      "         [1],\n",
      "         [1],\n",
      "         [1],\n",
      "         [1],\n",
      "         [1],\n",
      "         [1],\n",
      "         [1],\n",
      "         [0]],\n",
      "\n",
      "        [[1],\n",
      "         [1],\n",
      "         [1],\n",
      "         [1],\n",
      "         [1],\n",
      "         [1],\n",
      "         [1],\n",
      "         [1],\n",
      "         [1],\n",
      "         [0]],\n",
      "\n",
      "        [[1],\n",
      "         [1],\n",
      "         [1],\n",
      "         [1],\n",
      "         [1],\n",
      "         [1],\n",
      "         [1],\n",
      "         [1],\n",
      "         [1],\n",
      "         [0]],\n",
      "\n",
      "        [[1],\n",
      "         [1],\n",
      "         [1],\n",
      "         [1],\n",
      "         [1],\n",
      "         [1],\n",
      "         [1],\n",
      "         [1],\n",
      "         [0],\n",
      "         [0]],\n",
      "\n",
      "        [[1],\n",
      "         [1],\n",
      "         [1],\n",
      "         [1],\n",
      "         [1],\n",
      "         [1],\n",
      "         [1],\n",
      "         [1],\n",
      "         [0],\n",
      "         [0]],\n",
      "\n",
      "        [[1],\n",
      "         [1],\n",
      "         [1],\n",
      "         [1],\n",
      "         [1],\n",
      "         [1],\n",
      "         [1],\n",
      "         [1],\n",
      "         [0],\n",
      "         [0]]])\n",
      "torch.Size([8, 6])\n"
     ]
    }
   ],
   "source": [
    "a, (b,c), d, e = get_batch()\n",
    "d = d.view(d.shape[0], d.shape[1], 1)\n",
    "print(a.shape)\n",
    "print(b.shape)\n",
    "print(c.shape)\n",
    "print(d)\n",
    "print(e.shape)\n"
   ]
  },
  {
   "cell_type": "code",
   "execution_count": 120,
   "metadata": {},
   "outputs": [
    {
     "name": "stdout",
     "output_type": "stream",
     "text": [
      "[14]\n"
     ]
    }
   ],
   "source": [
    "print(encode([\".\"]))"
   ]
  }
 ],
 "metadata": {
  "kernelspec": {
   "display_name": "directml",
   "language": "python",
   "name": "python3"
  },
  "language_info": {
   "codemirror_mode": {
    "name": "ipython",
    "version": 3
   },
   "file_extension": ".py",
   "mimetype": "text/x-python",
   "name": "python",
   "nbconvert_exporter": "python",
   "pygments_lexer": "ipython3",
   "version": "3.11.3"
  }
 },
 "nbformat": 4,
 "nbformat_minor": 2
}
