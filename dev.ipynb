{
 "cells": [
  {
   "cell_type": "code",
   "execution_count": 1,
   "metadata": {},
   "outputs": [
    {
     "data": {
      "text/plain": [
       "<torch._C.Generator at 0x7f5650bb94d0>"
      ]
     },
     "execution_count": 1,
     "metadata": {},
     "output_type": "execute_result"
    }
   ],
   "source": [
    "import torch\n",
    "import torch.nn as nn\n",
    "import math\n",
    "torch.manual_seed(69)"
   ]
  },
  {
   "cell_type": "code",
   "execution_count": 2,
   "metadata": {},
   "outputs": [],
   "source": [
    "vocab_size = 14\n",
    "chars = \"0123456789+=. \" # '.':EOS, ' ':NULL\n",
    "stoi = {c:i for i, c in enumerate(chars)}\n",
    "encode = lambda str: [stoi[c] for c in str]\n",
    "decode = lambda idxs: ''.join([chars[i] for i in idxs])"
   ]
  },
  {
   "cell_type": "code",
   "execution_count": 4,
   "metadata": {},
   "outputs": [
    {
     "data": {
      "text/plain": [
       "(tensor([[ 4,  7,  0, 10,  4,  3,  5, 11,  5,  0,  9, 12],\n",
       "         [ 3,  6,  9, 10,  2,  0,  3, 11,  2,  7,  5, 12],\n",
       "         [ 1,  6,  2, 10,  6,  1,  5, 11,  7,  7,  7, 12],\n",
       "         [ 9,  3,  2, 10,  5,  7,  7, 11,  9,  0,  5,  1],\n",
       "         [ 5,  1,  0, 10,  2,  2,  5, 11,  5,  3,  7, 12],\n",
       "         [ 2,  8,  0, 10,  4,  9, 11,  9,  2,  3, 12, 13],\n",
       "         [ 1,  2,  6, 10,  8,  0, 11,  6,  0,  2, 12, 13],\n",
       "         [ 9,  3,  6, 10,  7,  6, 11,  2,  1,  0,  1, 12],\n",
       "         [ 7,  4,  1, 10,  6,  9,  0, 11,  1,  3,  4,  1],\n",
       "         [ 5,  7,  2, 10,  9,  1,  5, 11,  7,  8,  4,  1],\n",
       "         [ 9,  2,  5, 10,  8,  1,  9, 11,  4,  4,  7,  1],\n",
       "         [ 3,  2,  8, 10,  5,  3,  5, 11,  3,  6,  8, 12],\n",
       "         [ 8,  1,  6, 10,  2,  1,  8, 11,  4,  3,  0,  1],\n",
       "         [ 7,  4,  7, 10,  4,  3,  1, 11,  8,  7,  1,  1],\n",
       "         [ 7,  4,  4, 10,  7,  2,  0, 11,  4,  6,  4,  1],\n",
       "         [ 9,  8,  3, 10,  7,  2,  9, 11,  2,  1,  7,  1],\n",
       "         [ 4,  8,  2, 10,  6,  0,  3, 11,  5,  8,  0,  1],\n",
       "         [ 2,  2,  8, 10,  2,  7,  9, 11,  7,  0,  5, 12],\n",
       "         [ 8,  0,  3, 10,  8,  1,  1, 11,  4,  1,  6,  1],\n",
       "         [ 6,  2, 10,  4,  3,  8, 11,  0,  0,  5, 12, 13],\n",
       "         [ 7,  4,  9, 10,  1,  8,  5, 11,  4,  3,  9, 12],\n",
       "         [ 6,  1,  4, 10,  7,  0,  1, 11,  5,  1,  3,  1],\n",
       "         [ 2,  2,  8, 10,  4,  3,  6, 11,  4,  6,  6, 12],\n",
       "         [ 2,  6,  2, 10,  6,  8,  7, 11,  9,  4,  9, 12],\n",
       "         [ 4,  8,  6, 10,  2,  6,  7, 11,  3,  5,  7, 12],\n",
       "         [ 6,  9,  3, 10,  2,  8,  7, 11,  0,  8,  9, 12],\n",
       "         [ 9,  3,  6, 10,  5, 11,  1,  4,  9, 12, 13, 13],\n",
       "         [ 3,  2, 10,  7,  0,  9, 11,  1,  4,  7, 12, 13],\n",
       "         [ 4,  7,  4, 10,  8,  5,  1, 11,  5,  2,  3,  1],\n",
       "         [ 2,  3,  4, 10,  4,  5,  1, 11,  5,  8,  6, 12],\n",
       "         [ 5,  5, 10,  1,  2,  2, 11,  7,  7,  1, 12, 13],\n",
       "         [ 8,  5,  1, 10,  5,  4, 11,  5,  0,  9, 12, 13]]),\n",
       " tensor([[ 5,  0,  9, 12, 13],\n",
       "         [ 2,  7,  5, 12, 13],\n",
       "         [ 7,  7,  7, 12, 13],\n",
       "         [ 9,  0,  5,  1, 12],\n",
       "         [ 5,  3,  7, 12, 13],\n",
       "         [ 9,  2,  3, 12, 13],\n",
       "         [ 6,  0,  2, 12, 13],\n",
       "         [ 2,  1,  0,  1, 12],\n",
       "         [ 1,  3,  4,  1, 12],\n",
       "         [ 7,  8,  4,  1, 12],\n",
       "         [ 4,  4,  7,  1, 12],\n",
       "         [ 3,  6,  8, 12, 13],\n",
       "         [ 4,  3,  0,  1, 12],\n",
       "         [ 8,  7,  1,  1, 12],\n",
       "         [ 4,  6,  4,  1, 12],\n",
       "         [ 2,  1,  7,  1, 12],\n",
       "         [ 5,  8,  0,  1, 12],\n",
       "         [ 7,  0,  5, 12, 13],\n",
       "         [ 4,  1,  6,  1, 12],\n",
       "         [ 0,  0,  5, 12, 13],\n",
       "         [ 4,  3,  9, 12, 13],\n",
       "         [ 5,  1,  3,  1, 12],\n",
       "         [ 4,  6,  6, 12, 13],\n",
       "         [ 9,  4,  9, 12, 13],\n",
       "         [ 3,  5,  7, 12, 13],\n",
       "         [ 0,  8,  9, 12, 13],\n",
       "         [ 1,  4,  9, 12, 13],\n",
       "         [ 1,  4,  7, 12, 13],\n",
       "         [ 5,  2,  3,  1, 12],\n",
       "         [ 5,  8,  6, 12, 13],\n",
       "         [ 7,  7,  1, 12, 13],\n",
       "         [ 5,  0,  9, 12, 13]]))"
      ]
     },
     "execution_count": 4,
     "metadata": {},
     "output_type": "execute_result"
    }
   ],
   "source": [
    "max_len = 10\n",
    "rhs_max_len = 4\n",
    "lhs_max = 1000\n",
    "B = 32\n",
    "T = max_len + 2 # including '+' and '='\n",
    "\n",
    "\n",
    "def get_batch():\n",
    "    batch = []\n",
    "    for _ in range(B):\n",
    "        a = torch.randint(0, lhs_max, (2,))\n",
    "        sum = a.sum()\n",
    "        padding = \" \" * (max_len - int(math.log10(sum))-1 - int(math.log10(a[0]))-1 - int(math.log10(a[1]))-1)\n",
    "        s = f\"{a[0]}+{a[1]}={padding}.{sum}\"\n",
    "        batch.append(s)\n",
    "    return get_examples(batch)\n",
    "\n",
    "# given batch of strings, encodes and converts to training examples\n",
    "def get_examples(batch):\n",
    "    Xb, Yb = [], []\n",
    "    for x in batch:\n",
    "        i = x.index('=')\n",
    "        xb = x[:i+1]+x[:i+1:-1]\n",
    "        yb = x[:T-(rhs_max_len+1):-1]\n",
    "        Xb.append(encode(xb))\n",
    "        Yb.append(encode(yb))\n",
    "    return torch.tensor(Xb), torch.tensor(Yb)\n",
    "\n",
    "get_batch()"
   ]
  },
  {
   "cell_type": "code",
   "execution_count": 5,
   "metadata": {},
   "outputs": [
    {
     "name": "stdout",
     "output_type": "stream",
     "text": [
      "torch.Size([32, 5, 8])\n"
     ]
    }
   ],
   "source": [
    "head_size = 8\n",
    "n_embd = 8\n",
    "embedding_table = nn.Embedding(vocab_size, n_embd)\n",
    "l1 = nn.Linear(n_embd, head_size, bias=False)\n",
    "l2 = nn.Linear(n_embd, head_size, bias=False)\n",
    "l3 = nn.Linear(n_embd, head_size, bias=False)\n",
    "\n",
    "Xb, Yb = get_batch() # (B, T)\n",
    "\n",
    "x = embedding_table(Xb) # (B, T, C)\n",
    "\n",
    "queries = l1(x[:, T-(rhs_max_len+1):, :]) # only predict answer\n",
    "keys = l2(x)\n",
    "wei = queries @ keys.transpose(1, 2) / x.shape[2]**-0.5 # (B, rhs_max_len+1, H) @ (B, H, T) = (B, rhs_max_len+1, T)\n",
    "\n",
    "tril = torch.tril(torch.ones(rhs_max_len+1, T), diagonal=T-(rhs_max_len+1))\n",
    "wei = wei.masked_fill(tril==0, -torch.inf)\n",
    "wei = torch.softmax(wei, dim=-1)\n",
    "\n",
    "values = l3(x)\n",
    "out = wei @ values # (B, rhs_max_len+1, T) @ (B, T, H) = (B, rhs_max_len+1, H)\n",
    "print(out.shape)\n"
   ]
  },
  {
   "cell_type": "code",
   "execution_count": 11,
   "metadata": {},
   "outputs": [
    {
     "name": "stdout",
     "output_type": "stream",
     "text": [
      "tensor([ 5,  0,  6,  1, 12])\n"
     ]
    }
   ],
   "source": [
    "print(Yb[0])"
   ]
  },
  {
   "cell_type": "code",
   "execution_count": 12,
   "metadata": {},
   "outputs": [
    {
     "name": "stdout",
     "output_type": "stream",
     "text": [
      "tensor([[0, 0, 0, 0, 0, 1, 0, 0, 0, 0, 0, 0, 0, 0],\n",
      "        [1, 0, 0, 0, 0, 0, 0, 0, 0, 0, 0, 0, 0, 0],\n",
      "        [0, 0, 0, 0, 0, 0, 1, 0, 0, 0, 0, 0, 0, 0],\n",
      "        [0, 1, 0, 0, 0, 0, 0, 0, 0, 0, 0, 0, 0, 0],\n",
      "        [0, 0, 0, 0, 0, 0, 0, 0, 0, 0, 0, 0, 1, 0]])\n"
     ]
    }
   ],
   "source": []
  }
 ],
 "metadata": {
  "kernelspec": {
   "display_name": "directml",
   "language": "python",
   "name": "python3"
  },
  "language_info": {
   "codemirror_mode": {
    "name": "ipython",
    "version": 3
   },
   "file_extension": ".py",
   "mimetype": "text/x-python",
   "name": "python",
   "nbconvert_exporter": "python",
   "pygments_lexer": "ipython3",
   "version": "3.11.3"
  }
 },
 "nbformat": 4,
 "nbformat_minor": 2
}
